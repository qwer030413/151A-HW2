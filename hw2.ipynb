{
 "cells": [
  {
   "cell_type": "code",
   "execution_count": 12,
   "id": "89d18c3d",
   "metadata": {},
   "outputs": [],
   "source": [
    "%matplotlib inline\n",
    "import numpy as np\n",
    "import pandas as pd\n",
    "\n",
    "import matplotlib.pyplot as plt \n",
    "import time\n",
    "columns = ['Class', 'Alcohol', 'Malicacid', 'Ash', 'Alcalinity_of_ash',\n",
    "           'Magnesium', 'Total_phenols', 'Flavanoids', 'Nonflavanoid_phenols',\n",
    "           'Proanthocyanins', 'Color intensity', 'Hue',\n",
    "           '0D280_0D315_of_diluted_wines', 'Proline']\n",
    "## Load the training set\n",
    "data = pd.read_csv('wine/wine.data',  names=columns)\n"
   ]
  },
  {
   "cell_type": "code",
   "execution_count": null,
   "id": "411029aa",
   "metadata": {},
   "outputs": [],
   "source": [
    "X = data.drop(columns=['Class']).values\n",
    "y = data['Class'].values"
   ]
  },
  {
   "cell_type": "code",
   "execution_count": null,
   "id": "59032cbe",
   "metadata": {},
   "outputs": [],
   "source": []
  }
 ],
 "metadata": {
  "kernelspec": {
   "display_name": "base",
   "language": "python",
   "name": "python3"
  },
  "language_info": {
   "codemirror_mode": {
    "name": "ipython",
    "version": 3
   },
   "file_extension": ".py",
   "mimetype": "text/x-python",
   "name": "python",
   "nbconvert_exporter": "python",
   "pygments_lexer": "ipython3",
   "version": "3.10.9"
  }
 },
 "nbformat": 4,
 "nbformat_minor": 5
}
